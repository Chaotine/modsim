{
 "cells": [
  {
   "cell_type": "markdown",
   "metadata": {},
   "source": [
    "## Simulation und Modellierung WS 16/17 Uebung 07 : \n",
    "### Abgabe zum 11.12.2016"
   ]
  },
  {
   "cell_type": "markdown",
   "metadata": {},
   "source": [
    "### <u>Aufgabe 1</u> Erste Schritte mit Git (3P)"
   ]
  },
  {
   "cell_type": "markdown",
   "metadata": {},
   "source": [
    "Ziel dieser Aufgabe ist, die Lösung dieses kompletten Aufgabenblattes bei einem Git-Filehost (github) online zu stellen. An der hochgeladenen Version sollen Sie dann noch mindestens eine Änderung vornehmen.\n",
    "\n",
    "Nun der Reihenfolge nach: \n",
    "* Erstellen Sie einen Account bei Github mit einem `username`\n",
    "\n",
    "  https://github.com/\n",
    " \n",
    "  Erstellen Sie dort per Mausklick ein neues Repository, z.B. `my_repo`. (unter `new repository`)\n",
    "\n",
    "* Installieren Sie git auf Ihrem Arbeitsrechner:\n",
    "\n",
    "  #### Linux:\n",
    "  \n",
    "  `yum install git`\n",
    "  \n",
    "  `apt-get install git`\n",
    "  \n",
    "  `zypper in git`\n",
    "\n",
    "  #### Mac:\n",
    "  \n",
    "  `brew install git`\n",
    "  \n",
    "  https://git-scm.com/download/mac\n",
    "  \n",
    "  #### Windows:\n",
    "  \n",
    "  http://git-for-windows.github.io//\n",
    "\n",
    "  Setzen Sie dann eventuell Namen und Adresse.\n",
    "  \n",
    "  `git config --global user.name \"Your Name\"`\n",
    "  \n",
    "  `git config --global user.email you@example.com`\n",
    "\n",
    "\n",
    "* Initialisieren Sie git in einem neuen Ordner. Fügen Sie `my_repo.git` als origin hinzu. Speichern Sie dieses notebook im neuen Ordner. Führen Sie `git add .`, `git commit -m \"  \"` und `git push origin master` aus. Das alles geht im Terminal folgendermaßen:\n",
    "\n",
    "  ```bash\n",
    "      mkdir neuer_ordner\n",
    "      cd neuer_ordner\n",
    "      git init\n",
    "      git remote add origin https://username@bitbucket.org/username/my_repo.git\n",
    "      cp /path/to/notebook/my_notebook.ipynb my_notebook.ipynb\n",
    "      git add .\n",
    "      git commit -m \"Dieses notebook ist die Hausaufgabe Blatt 7, zunaechst unausgefuellt.\"\n",
    "      git push origin master  \n",
    "  ```\n",
    "  \n",
    "  Sehen Sie nach, ob Ihr notebook online ist.\n",
    "\n",
    "* Spielen Sie mit `git status`, `git log`, `git branch -av` .. herum und klicken Sie im Webfilehost herum, bis Sie sich ein wenig auskennen. Schreiben Sie Fragen für die Übung auf.\n",
    "\n",
    "* Nehmen Sie nun lokal auf Ihrem Rechner Änderungen am notebook vor, zum Beispiel indem Sie die Hausaufgaben lösen. Ändern Sie dies wie oben online: `git add .`, `git commit -m \"  \"`, `git push origin master`. Achten Sie auf sinnvolle commit-Kommentare.\n",
    "  \n",
    "  ```bash\n",
    "      git add .\n",
    "      git commit -m \"Aufg. 1 geloest, es gibt noch ein Problem mit dem Vorzeichen von h.\"\n",
    "      git push origin master  \n",
    "  ```\n",
    "\n",
    "Senden Sie den https-Repository-Pfad an frpeter (at) uni-potsdam.de."
   ]
  },
  {
   "cell_type": "markdown",
   "metadata": {},
   "source": [
    "### <u>Aufgabe 2</u> Das Lineare Least Squares Problem (7P)"
   ]
  },
  {
   "cell_type": "markdown",
   "metadata": {},
   "source": [
    "Fuer die Koordinaten $(x,y)$ eines beliebiegen Kegelschnittes in der Ebene gilt\n",
    "\n",
    "$$\n",
    "        f(x,y) = A x^2 + B xy + C y^2 + D x + E y = 1\n",
    "$$\n",
    "\n",
    "Die Datei `orbit.dat` enthaelt eine Tabelle von $x$ und $y$ Werten, welche messfehlerbehaftete Punkte eines Kegelschnittes sind. \n",
    "\n",
    "\n",
    "- Laden Sie die Daten in ein `numpy` Array und finden Sie die Koeffizienten $A,B,C,D$ und $E$, welche die Summe der quadratischen Abweichungen ueber alle Messpunkte des Ausdrucks auf der linken Seite zur Zahl `1` minimiert.\n",
    "\n",
    "Der Kegelschnitt ist eine geschlossene Kurve, wenn $B^2-4AC<0$ gilt, eine Parabel, wenn $B^2-4AC=0$ und ansonsten eine Hyperbel.\n",
    "\n",
    "- Ist dieser Kegelschnitt eine offene oder geschlossene Kurve?\n",
    "- Zeichnen Sie alle Kurven $y=y(x)$, die die Kegelschnittgleichung mit den von Ihnen gefundenen Koeffizienten erfuellen zusammen mit den Datenpunkten in ein Diagram.\n",
    "\n",
    "*Hinweis* : Sie koennen die Kegelschnittgleichung als quadratische Gleichung explizit nach $y$ aufloesen und beide Loesungen dort plotten, wo der Imaginaerteil gleich Null (oder sehr klein) ist, oder den Wertebereich von $x$ explizit berechnen.\n",
    "\n",
    "*Zur Erinnerung* : Die Summe der quadratischen Abweichungen eines ueberbestimmten linearen Gleichungssystems\n",
    "\n",
    "$$\n",
    "    \\mathrm{A}(\\vec{x},\\vec{y}) \\vec{c} = \\vec{b}\n",
    "$$\n",
    "wird durch die Loesung des kleineren linearen Gleichungssystems\n",
    "\n",
    "$$\n",
    "    \\mathrm{A}^\\top\\mathrm{A} \\vec{c} = \\mathrm{A}^\\top\\vec{b}\n",
    "$$\n",
    "minimiert."
   ]
  },
  {
   "cell_type": "code",
   "execution_count": 3,
   "metadata": {
    "collapsed": false
   },
   "outputs": [
    {
     "name": "stdout",
     "output_type": "stream",
     "text": [
      "Kegelschnitt ist geschlossene Kurve.\n"
     ]
    },
    {
     "data": {
      "image/png": "[encoded data removed]",
      "text/plain": [
       "<matplotlib.figure.Figure at 0x7f3d316e17f0>"
      ]
     },
     "metadata": {},
     "output_type": "display_data"
    }
   ],
   "source": [
    "import numpy as np\n",
    "from matplotlib import pyplot as plt\n",
    "%matplotlib inline\n",
    "\n",
    "# importiere Daten\n",
    "x, y = np.loadtxt('orbit.dat', unpack=True)\n",
    "\n",
    "# finde Koeffizienten a, b, c, d, e\n",
    "# durch Loesen von A*(a, b, c, d, e) = (1, ..., 1)\n",
    "A = np.array([x**2, x*y, y**2, x, y]).T # sehr schoen!\n",
    "coef = np.linalg.solve(A.T.dot(A), A.T.dot(np.ones((len(x), 1))))\n",
    "a = coef[0]\n",
    "b = coef[1]\n",
    "c = coef[2]\n",
    "d = coef[3]\n",
    "e = coef[4]\n",
    "\n",
    "# finde Rand des Definitionsbereichs D(y \\in R)\n",
    "# durch Loesen der quadratischen Gl. fuer x\n",
    "p = (b*e/(2*c) - d)/(b**2/(4*c) - a) # c zuviel\n",
    "q = (e**2/(4*c**2) + 1)/(b**2/(4*c**2) - a/c) # c fehlte\n",
    "x_def1 = -p/2 - np.sqrt(p**2/4 - q)\n",
    "x_def2 = -p/2 + np.sqrt(p**2/4 - q)\n",
    "\n",
    "# finde Definitionsbereich,\n",
    "# x muss zwischen x_def1, x_def2 liegen\n",
    "# sqrt ist positiv, also ist x_def1 immer kleiner als x_def2\n",
    "#if (x_def1 < x_def2):\n",
    "gr_x = np.linspace(x_def1, x_def2, 100)\n",
    "#else:\n",
    "#    gr_x = np.linspace(x_def2, x_def1, 100)\n",
    "\n",
    "# y(x) explizit im Def.bereich gr_x\n",
    "gr_y1 = -(b*gr_x + e)/(2*c) + np.sqrt((b*gr_x + e)**2/(4*c**2) - a*gr_x**2/c - d*gr_x/c + 1./c) # hier fehlte das c in q\n",
    "gr_y2 = -(b*gr_x + e)/(2*c) - np.sqrt((b*gr_x + e)**2/(4*c**2) - a*gr_x**2/c - d*gr_x/c + 1./c)\n",
    "\n",
    "# welche Form\n",
    "if (b**2 - 4*a*c < 0):\n",
    "    print('Kegelschnitt ist geschlossene Kurve.')\n",
    "else:\n",
    "    if (abs(b**2 - 4*a*c) < 1e-15):\n",
    "        print('Kegelschnitt ist eine Parabel.')\n",
    "    else:\n",
    "        print('Kegelschnitt ist eine Hyperbel.')\n",
    "\n",
    "# Plots\n",
    "plt.plot(x, y, '.', label='orbit.dat')\n",
    "plt.plot(gr_x, gr_y1, 'k')\n",
    "plt.plot(gr_x, gr_y2, 'k')\n",
    "plt.xlim([-2.0, 1.5])\n",
    "plt.legend()\n",
    "plt.show()\n",
    "\n",
    "'''\n",
    "-0.5 Punkte, weil Formeln falsch \n",
    "+ 1.5 Punkt wegen ausgezeichneter Implementierung, guter Dokumentation und expliziten Ausrechnens des Def-bereichs\n",
    "'''"
   ]
  },
  {
   "cell_type": "markdown",
   "metadata": {},
   "source": [
    "##### Nebenrechnungen:\n",
    "\n",
    "- *y(x)* explizit:\n",
    "\n",
    "$$\n",
    "    A x^2 + B x y + C y^2 + D x + E y = 1 \\\\\n",
    "    \\Leftrightarrow ~ y^2 + \\left( \\frac{B x + E}{C} \\right) y + \\frac{A x^2 + D x - 1}{C} = 0 \\\\\n",
    "    \\Rightarrow ~ y_{1, 2}(x) = -\\frac{B x + E}{2 C} \\pm \\sqrt{\\frac{(B x + E)^2}{4 C^2} - \\frac{A x^2 + D x - 1}{C}}\n",
    "$$\n",
    "\n",
    "- Definitionsbereich von reellen *y(x)*:\n",
    "\n",
    "$$\n",
    "    \\frac{(B x + E)^2}{4 C^2} - \\frac{A x^2 + D x - 1}{C} \\geq 0 \\\\\n",
    "    \\Leftrightarrow ~ x^2 + \\frac{\\frac{B E}{2 C} - D}{\\frac{B^2}{4 C} - A} x + \\frac{\\frac{E^2}{4 C} + 1}{\\frac{B^2}{4 C} - A} \\geq 0 \\\\\n",
    "    \\Rightarrow ~ \\{\\max{x}, \\min{x}\\} = - \\frac{1}{2} \\frac{\\frac{B E}{2 C} - D}{\\frac{B^2}{4 C} - A} \\pm \\sqrt{\\frac{1}{4} \\left( \\frac{\\frac{B E}{2 C} - D}{\\frac{B^2}{4 C} - A} \\right)^2 - \\frac{\\frac{E^2}{4 C} + 1}{\\frac{B^2}{4 C} - A}}\n",
    "$$"
   ]
  },
  {
   "cell_type": "markdown",
   "metadata": {},
   "source": [
    "### <u>Zusatzaufgabe</u> (2P)"
   ]
  },
  {
   "cell_type": "markdown",
   "metadata": {},
   "source": [
    "- Schreiben Sie eine Funktion `polyfit(x,y,N=0)`, welche fuer `L` Datenpunkte in den Containern `x` und `y` die Koeffizienten `c` eines Polynoms \n",
    "$$\n",
    "    y = p(x)= c_0 x^0 + c_1 x^1 + c_2 x^2 + \\dots + c_N x^N\n",
    "$$ \n",
    "`N`ten Grades findet, welches die Summe der quadratischen Abweichungen $\\sum_l (p(x_l)-y_l)^2$ minimiert. *Hinweis* : wandeln Sie `x` und `y` in `numpy` arrays um.\n",
    "- Demonstrieren Sie die Funktion grafisch anhand von `L` $\\gg$ `N` Punkten eines Polynoms, welche zufaellige Abweichungen in $x$ und $y$ Richtung aufweisen.\n",
    "- Finden Sie ein Polynom, welches die Daten der ersten Aufgabe gut beschreibt."
   ]
  },
  {
   "cell_type": "code",
   "execution_count": 23,
   "metadata": {
    "collapsed": false
   },
   "outputs": [
    {
     "name": "stdout",
     "output_type": "stream",
     "text": [
      "[  1.35382498e-03   9.56672068e-01   2.98310602e+00   3.96742974e+00]\n"
     ]
    }
   ],
   "source": [
    "import numpy as np\n",
    "def polyfit(x, y, N=0):\n",
    "    '''\n",
    "    Findet Polynom N-ten Grads y(x) zu gegebenen Datenpunkten (x, y)\n",
    "    und gibt Koeffizienten zurueck.\n",
    "    x, y: Datenpunkte\n",
    "    N: Grad des Polynoms\n",
    "    '''\n",
    "    import numpy as np  # bin mir nicht sicher, ob es orthodox ist, das hier zu importieren\n",
    "    x_arr = np.array(x)\n",
    "    y_arr = np.array(y)\n",
    "    A = np.array([x_arr**i for i in range(N+1)]) #N+1, und A \n",
    "    coef = np.linalg.solve(A.dot(A.T), A.dot(y_arr)) # misti, oben hattest du das doch richtig...\n",
    "    return(coef)\n",
    "\n",
    "# test an polynom mit Messfehlern\n",
    "N = 3\n",
    "lenN = 1000\n",
    "chi = 0.01 # Groessenordnung der Messfehler\n",
    "x = np.linspace(0, 1, lenN) \n",
    "y = x + 3*x**2 + 4*x**3 + chi*np.random.rand(lenN)\n",
    "x +=  chi*np.random.rand(lenN)\n",
    "print(polyfit(x, y, N=3))"
   ]
  },
  {
   "cell_type": "markdown",
   "metadata": {},
   "source": [
    "0 Punkte"
   ]
  },
  {
   "cell_type": "code",
   "execution_count": null,
   "metadata": {
    "collapsed": true
   },
   "outputs": [],
   "source": []
  }
 ],
 "metadata": {
  "anaconda-cloud": {},
  "kernelspec": {
   "display_name": "Python [default]",
   "language": "python",
   "name": "python3"
  },
  "language_info": {
   "codemirror_mode": {
    "name": "ipython",
    "version": 3
   },
   "file_extension": ".py",
   "mimetype": "text/x-python",
   "name": "python",
   "nbconvert_exporter": "python",
   "pygments_lexer": "ipython3",
   "version": "3.5.2"
  }
 },
 "nbformat": 4,
 "nbformat_minor": 0
}
